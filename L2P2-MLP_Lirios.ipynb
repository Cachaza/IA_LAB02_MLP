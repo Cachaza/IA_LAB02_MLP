{
 "cells": [
  {
   "cell_type": "code",
   "execution_count": 1,
   "metadata": {},
   "outputs": [
    {
     "name": "stderr",
     "output_type": "stream",
     "text": [
      "2024-04-06 21:57:30.813336: I tensorflow/core/util/port.cc:113] oneDNN custom operations are on. You may see slightly different numerical results due to floating-point round-off errors from different computation orders. To turn them off, set the environment variable `TF_ENABLE_ONEDNN_OPTS=0`.\n",
      "2024-04-06 21:57:30.813511: I external/local_tsl/tsl/cuda/cudart_stub.cc:32] Could not find cuda drivers on your machine, GPU will not be used.\n",
      "2024-04-06 21:57:30.816029: I external/local_tsl/tsl/cuda/cudart_stub.cc:32] Could not find cuda drivers on your machine, GPU will not be used.\n",
      "2024-04-06 21:57:30.848016: I tensorflow/core/platform/cpu_feature_guard.cc:210] This TensorFlow binary is optimized to use available CPU instructions in performance-critical operations.\n",
      "To enable the following instructions: AVX2 AVX512F AVX512_VNNI FMA, in other operations, rebuild TensorFlow with the appropriate compiler flags.\n",
      "2024-04-06 21:57:31.407605: W tensorflow/compiler/tf2tensorrt/utils/py_utils.cc:38] TF-TRT Warning: Could not find TensorRT\n"
     ]
    }
   ],
   "source": [
    "import keras\n",
    "\n",
    "import pandas as pd\n",
    "import numpy as np\n",
    "from sklearn import datasets\n",
    "import matplotlib.pyplot as plt\n",
    "import random\n",
    "import tensorflow as tf\n",
    "import csv"
   ]
  },
  {
   "cell_type": "markdown",
   "metadata": {},
   "source": [
    "Cargamso el dataset:"
   ]
  },
  {
   "cell_type": "code",
   "execution_count": 2,
   "metadata": {},
   "outputs": [
    {
     "name": "stdout",
     "output_type": "stream",
     "text": [
      ".. _iris_dataset:\n",
      "\n",
      "Iris plants dataset\n",
      "--------------------\n",
      "\n",
      "**Data Set Characteristics:**\n",
      "\n",
      ":Number of Instances: 150 (50 in each of three classes)\n",
      ":Number of Attributes: 4 numeric, predictive attributes and the class\n",
      ":Attribute Information:\n",
      "    - sepal length in cm\n",
      "    - sepal width in cm\n",
      "    - petal length in cm\n",
      "    - petal width in cm\n",
      "    - class:\n",
      "            - Iris-Setosa\n",
      "            - Iris-Versicolour\n",
      "            - Iris-Virginica\n",
      "\n",
      ":Summary Statistics:\n",
      "\n",
      "============== ==== ==== ======= ===== ====================\n",
      "                Min  Max   Mean    SD   Class Correlation\n",
      "============== ==== ==== ======= ===== ====================\n",
      "sepal length:   4.3  7.9   5.84   0.83    0.7826\n",
      "sepal width:    2.0  4.4   3.05   0.43   -0.4194\n",
      "petal length:   1.0  6.9   3.76   1.76    0.9490  (high!)\n",
      "petal width:    0.1  2.5   1.20   0.76    0.9565  (high!)\n",
      "============== ==== ==== ======= ===== ====================\n",
      "\n",
      ":Missing Attribute Values: None\n",
      ":Class Distribution: 33.3% for each of 3 classes.\n",
      ":Creator: R.A. Fisher\n",
      ":Donor: Michael Marshall (MARSHALL%PLU@io.arc.nasa.gov)\n",
      ":Date: July, 1988\n",
      "\n",
      "The famous Iris database, first used by Sir R.A. Fisher. The dataset is taken\n",
      "from Fisher's paper. Note that it's the same as in R, but not as in the UCI\n",
      "Machine Learning Repository, which has two wrong data points.\n",
      "\n",
      "This is perhaps the best known database to be found in the\n",
      "pattern recognition literature.  Fisher's paper is a classic in the field and\n",
      "is referenced frequently to this day.  (See Duda & Hart, for example.)  The\n",
      "data set contains 3 classes of 50 instances each, where each class refers to a\n",
      "type of iris plant.  One class is linearly separable from the other 2; the\n",
      "latter are NOT linearly separable from each other.\n",
      "\n",
      "|details-start|\n",
      "**References**\n",
      "|details-split|\n",
      "\n",
      "- Fisher, R.A. \"The use of multiple measurements in taxonomic problems\"\n",
      "  Annual Eugenics, 7, Part II, 179-188 (1936); also in \"Contributions to\n",
      "  Mathematical Statistics\" (John Wiley, NY, 1950).\n",
      "- Duda, R.O., & Hart, P.E. (1973) Pattern Classification and Scene Analysis.\n",
      "  (Q327.D83) John Wiley & Sons.  ISBN 0-471-22361-1.  See page 218.\n",
      "- Dasarathy, B.V. (1980) \"Nosing Around the Neighborhood: A New System\n",
      "  Structure and Classification Rule for Recognition in Partially Exposed\n",
      "  Environments\".  IEEE Transactions on Pattern Analysis and Machine\n",
      "  Intelligence, Vol. PAMI-2, No. 1, 67-71.\n",
      "- Gates, G.W. (1972) \"The Reduced Nearest Neighbor Rule\".  IEEE Transactions\n",
      "  on Information Theory, May 1972, 431-433.\n",
      "- See also: 1988 MLC Proceedings, 54-64.  Cheeseman et al\"s AUTOCLASS II\n",
      "  conceptual clustering system finds 3 classes in the data.\n",
      "- Many, many more ...\n",
      "\n",
      "|details-end|\n",
      "\n"
     ]
    }
   ],
   "source": [
    "iris = datasets.load_iris()\n",
    "print(iris.DESCR)"
   ]
  },
  {
   "cell_type": "markdown",
   "metadata": {},
   "source": [
    "Creamos el dataset en pandas y lo sufleamos"
   ]
  },
  {
   "cell_type": "code",
   "execution_count": 3,
   "metadata": {},
   "outputs": [
    {
     "name": "stdout",
     "output_type": "stream",
     "text": [
      "Numero de elementos de cada clase\n",
      "target\n",
      "0.0    50\n",
      "1.0    50\n",
      "2.0    50\n",
      "Name: count, dtype: int64\n"
     ]
    }
   ],
   "source": [
    "iris_df = pd.DataFrame(data= np.c_[iris['data'], iris['target']],\n",
    "                        columns= iris['feature_names'] + ['target'])\n",
    "print(\"Numero de elementos de cada clase\")\n",
    "print(iris_df['target'].value_counts())"
   ]
  },
  {
   "cell_type": "code",
   "execution_count": 4,
   "metadata": {},
   "outputs": [],
   "source": [
    "def normalize_l2(df, columns):\n",
    "  \"\"\"\n",
    "  Normalizes specified columns in a dataframe using L2 norm.\n",
    "\n",
    "  Args:\n",
    "      df: The pandas dataframe.\n",
    "      columns: List of column names to normalize.\n",
    "\n",
    "  Returns:\n",
    "      A new dataframe with normalized columns.\n",
    "  \"\"\"\n",
    "  df_norm = df.copy()\n",
    "  for col in columns:\n",
    "    # Calculate L2 norm for each row\n",
    "    norm = df[col].apply(lambda x: np.sqrt(sum(x**2 for x in df[col])))\n",
    "\n",
    "    # Avoid division by zero (rows with all zeros)\n",
    "    norm[norm == 0] = 1\n",
    "\n",
    "    # Normalize the column values\n",
    "    df_norm[col] = df[col] / norm\n",
    "  return df_norm"
   ]
  },
  {
   "cell_type": "code",
   "execution_count": 5,
   "metadata": {},
   "outputs": [
    {
     "name": "stdout",
     "output_type": "stream",
     "text": [
      "120 30\n",
      "96 24\n"
     ]
    }
   ],
   "source": [
    "iris_shuffleados = iris_df.sample(frac=1, random_state=0)\n",
    "\n",
    "tamañoIris = len(iris_shuffleados)\n",
    "tamañoResto = int(tamañoIris * 0.8)\n",
    "\n",
    "\n",
    "iris_trainAll = iris_shuffleados.iloc[:tamañoResto]\n",
    "iris_pruebaAll = iris_shuffleados.iloc[tamañoResto:]\n",
    "\n",
    "\n",
    "tamañoEntrenamiento = int(tamañoResto * 0.8)\n",
    "\n",
    "irisEntrenamientoAll = iris_trainAll.iloc[:tamañoEntrenamiento]\n",
    "irisValidacionAll = iris_trainAll.iloc[tamañoEntrenamiento:]\n",
    "\n",
    "print(len(iris_trainAll), len(iris_pruebaAll))\n",
    "print(len(irisEntrenamientoAll), len(irisValidacionAll))"
   ]
  },
  {
   "cell_type": "code",
   "execution_count": 6,
   "metadata": {},
   "outputs": [],
   "source": [
    "irisEntrenamientoAll = irisEntrenamientoAll.to_numpy()\n",
    "x = irisEntrenamientoAll[:, :-1]\n",
    "y = irisEntrenamientoAll[:, -1]\n",
    "\n",
    "irisValidacionAll = irisValidacionAll.to_numpy()\n",
    "x_val = irisValidacionAll[:, :-1]\n",
    "y_val = irisValidacionAll[:, -1]\n",
    "\n",
    "\n",
    "iris_pruebaAll = iris_pruebaAll.to_numpy()\n",
    "x_test = iris_pruebaAll[:, :-1]\n",
    "y_test = iris_pruebaAll[:, -1]"
   ]
  },
  {
   "cell_type": "code",
   "execution_count": 7,
   "metadata": {},
   "outputs": [
    {
     "data": {
      "text/plain": [
       "array([2., 1., 0., 2., 0., 2., 0., 1., 1., 1., 2., 1., 1., 1., 1., 0., 1.,\n",
       "       1., 0., 0., 2., 1., 0., 0., 2., 0., 0., 1., 1., 0., 2., 1., 0., 2.,\n",
       "       2., 1., 0., 1., 1., 1., 2., 0., 2., 0., 0., 1., 2., 2., 2., 2., 1.,\n",
       "       2., 1., 1., 2., 2., 2., 2., 1., 2., 1., 0., 2., 1., 1., 1., 1., 2.,\n",
       "       0., 0., 2., 1., 0., 0., 1., 0., 2., 1., 0., 1., 2., 1., 0., 2., 2.,\n",
       "       2., 2., 0., 0., 2., 2., 0., 2., 0., 2., 2.])"
      ]
     },
     "execution_count": 7,
     "metadata": {},
     "output_type": "execute_result"
    }
   ],
   "source": [
    "y"
   ]
  },
  {
   "cell_type": "code",
   "execution_count": 19,
   "metadata": {},
   "outputs": [
    {
     "ename": "SyntaxError",
     "evalue": "incomplete input (3143108488.py, line 17)",
     "output_type": "error",
     "traceback": [
      "\u001b[0;36m  Cell \u001b[0;32mIn[19], line 17\u001b[0;36m\u001b[0m\n\u001b[0;31m    \u001b[0m\n\u001b[0m    ^\u001b[0m\n\u001b[0;31mSyntaxError\u001b[0m\u001b[0;31m:\u001b[0m incomplete input\n"
     ]
    }
   ],
   "source": [
    "\n",
    "my_callbacks = [\n",
    "    keras.callbacks.EarlyStopping(patience=2),\n",
    "    keras.callbacks.ModelCheckpoint(filepath='modelo.{epoch:02d}-{val_loss:.2f}.keras'),\n",
    "    keras.callbacks.TensorBoard(log_dir='./logs'),\n",
    "]\n",
    "\n",
    "neuronas = [12, 30, 48]\n",
    "learning_rates = [0.01, 0.05, 0.1]\n",
    "epochs = [100, 200, 300]\n",
    "momentums = [0.1, 0.25, 0.5]\n",
    "for neurona in neuronas:\n",
    "    for i in [10, 15 , 20]:\n",
    "       for lr in learning_rates:\n",
    "            for epoch in epochs:\n",
    "                for momentum in momentums:\n",
    "                    modelo = keras.Sequential()\n",
    "                    modelo.add(keras.layers.Dense(units=16, activation=\"relu\", input_shape=(4,)))\n",
    "                    for j in range(i):\n",
    "                        modelo.add(keras.layers.Dense(neurona, activation=\"relu\"))\n",
    "                        if j == i -1:\n",
    "                            print(\"-\" * 100 + \"\\n\")\n",
    "                            print(\"modelo con \" + str(neurona) +\" neuronas por capa, \" + str(i) +\" capas\")\n",
    "                            modelo.add(keras.layers.Dense(3, activation=\"sigmoid\"))\n",
    "                            \n",
    "                            nombre = 'str(neurona) neuronas  + i +  capas'\n",
    "                            modelo.name = str(neurona)\n",
    "                            \n",
    "                            optimizer = keras.optimizers.SGD(learning_rate=lr, momentum=momentum)\n",
    "                            modelo.compile(loss=\"sparse_categorical_crossentropy\", optimizer=optimizer, metrics=[\"accuracy\"])\n",
    "                            modelo.fit(x=x, y=y, epochs=epoch, batch_size=32, validation_data=(x_val, y_val))\n",
    "                            \n",
    "                            loss, accuracy = modelo.evaluate(x_test, y_test)\n",
    "                            print(\"Validation Loss:\", loss)\n",
    "                            print(\"Validation Accuracy:\", accuracy)\n",
    "                            with open(\"data.csv\", \"a\", newline=\"\") as csvfile:\n",
    "                                writer = csv.writer(csvfile)\n",
    "                                #writer.writerow([\"Capas\", \"Neuronas por capa\", \"loss\", \"accuracy\"])\n",
    "                                writer.writerow([i, neurona, lr, epoch, momentum ,loss, accuracy])\n",
    "\n",
    "\n"
   ]
  },
  {
   "cell_type": "code",
   "execution_count": 9,
   "metadata": {},
   "outputs": [
    {
     "name": "stderr",
     "output_type": "stream",
     "text": [
      "/home/david/Trabajos/IA2/lib/python3.11/site-packages/keras/src/optimizers/base_optimizer.py:34: UserWarning: Argument `decay` is no longer supported and will be ignored.\n",
      "  warnings.warn(\n"
     ]
    }
   ],
   "source": [
    "\n",
    "\n",
    "\n",
    "model = keras.Sequential()\n",
    "model.add(keras.layers.Dense(12, activation='relu', input_dim=4))\n",
    "model.add(keras.layers.Dense(3, activation='softmax'))\n",
    "sgd = keras.optimizers.SGD(learning_rate = 0.01, decay = 1e-6, momentum = 0.9, nesterov=True)\n",
    "model.compile(optimizer=sgd,\n",
    "              loss='categorical_crossentropy',\n",
    "              metrics=['accuracy'])\n"
   ]
  },
  {
   "cell_type": "code",
   "execution_count": 10,
   "metadata": {},
   "outputs": [],
   "source": [
    "y_train = keras.utils.to_categorical(y, num_classes = 3)"
   ]
  },
  {
   "cell_type": "code",
   "execution_count": 11,
   "metadata": {},
   "outputs": [
    {
     "name": "stdout",
     "output_type": "stream",
     "text": [
      "Epoch 1/10\n",
      "\u001b[1m3/3\u001b[0m \u001b[32m━━━━━━━━━━━━━━━━━━━━\u001b[0m\u001b[37m\u001b[0m \u001b[1m0s\u001b[0m 2ms/step - accuracy: 0.3932 - loss: 1.0721  \n",
      "Epoch 2/10\n",
      "\u001b[1m3/3\u001b[0m \u001b[32m━━━━━━━━━━━━━━━━━━━━\u001b[0m\u001b[37m\u001b[0m \u001b[1m0s\u001b[0m 2ms/step - accuracy: 0.4010 - loss: 1.0415 \n",
      "Epoch 3/10\n",
      "\u001b[1m3/3\u001b[0m \u001b[32m━━━━━━━━━━━━━━━━━━━━\u001b[0m\u001b[37m\u001b[0m \u001b[1m0s\u001b[0m 1ms/step - accuracy: 0.3385 - loss: 1.0843 \n",
      "Epoch 4/10\n",
      "\u001b[1m3/3\u001b[0m \u001b[32m━━━━━━━━━━━━━━━━━━━━\u001b[0m\u001b[37m\u001b[0m \u001b[1m0s\u001b[0m 1ms/step - accuracy: 0.3464 - loss: 1.0677 \n",
      "Epoch 5/10\n",
      "\u001b[1m3/3\u001b[0m \u001b[32m━━━━━━━━━━━━━━━━━━━━\u001b[0m\u001b[37m\u001b[0m \u001b[1m0s\u001b[0m 1ms/step - accuracy: 0.3464 - loss: 1.0575 \n",
      "Epoch 6/10\n",
      "\u001b[1m3/3\u001b[0m \u001b[32m━━━━━━━━━━━━━━━━━━━━\u001b[0m\u001b[37m\u001b[0m \u001b[1m0s\u001b[0m 2ms/step - accuracy: 0.3659 - loss: 1.0432 \n",
      "Epoch 7/10\n",
      "\u001b[1m3/3\u001b[0m \u001b[32m━━━━━━━━━━━━━━━━━━━━\u001b[0m\u001b[37m\u001b[0m \u001b[1m0s\u001b[0m 2ms/step - accuracy: 0.3815 - loss: 1.0325 \n",
      "Epoch 8/10\n",
      "\u001b[1m3/3\u001b[0m \u001b[32m━━━━━━━━━━━━━━━━━━━━\u001b[0m\u001b[37m\u001b[0m \u001b[1m0s\u001b[0m 2ms/step - accuracy: 0.3932 - loss: 1.0202 \n",
      "Epoch 9/10\n",
      "\u001b[1m3/3\u001b[0m \u001b[32m━━━━━━━━━━━━━━━━━━━━\u001b[0m\u001b[37m\u001b[0m \u001b[1m0s\u001b[0m 1ms/step - accuracy: 0.3815 - loss: 1.0239 \n",
      "Epoch 10/10\n",
      "\u001b[1m3/3\u001b[0m \u001b[32m━━━━━━━━━━━━━━━━━━━━\u001b[0m\u001b[37m\u001b[0m \u001b[1m0s\u001b[0m 1ms/step - accuracy: 0.3307 - loss: 1.0329 \n",
      "\u001b[1m1/1\u001b[0m \u001b[32m━━━━━━━━━━━━━━━━━━━━\u001b[0m\u001b[37m\u001b[0m \u001b[1m0s\u001b[0m 29ms/step\n"
     ]
    }
   ],
   "source": [
    "# Define the number of features and classes\n",
    "num_features = 4\n",
    "num_classes = 3\n",
    "\n",
    "# Sample data (replace with your actual data)\n",
    "x_train = x  # Your training data with shape (n_samples, 4)\n",
    "y_train = y  # Your integer encoded labels with shape (n_samples,)\n",
    "\n",
    "# Define the model\n",
    "model = keras.Sequential([\n",
    "  keras.layers.Dense(units=16, activation=\"relu\", input_shape=(num_features,)),  # Hidden layer with 16 neurons and ReLU activation\n",
    "  keras.layers.Dense(units=8, activation=\"relu\"),  # Another hidden layer with 8 neurons and ReLU activation\n",
    "  keras.layers.Dense(units=num_classes, activation=\"softmax\")  # Output layer with 3 neurons and softmax activation for multi-class classification\n",
    "])\n",
    "\n",
    "# Compile the model\n",
    "model.compile(loss=\"sparse_categorical_crossentropy\", optimizer=\"adam\", metrics=[\"accuracy\"])\n",
    "\n",
    "# Train the model\n",
    "model.fit(x_train, y_train, epochs=10, batch_size=32)\n",
    "\n",
    "# Use the model for prediction\n",
    "predictions = model.predict(x_test)  # Replace x_test with your testing data\n"
   ]
  },
  {
   "cell_type": "code",
   "execution_count": 12,
   "metadata": {},
   "outputs": [
    {
     "data": {
      "text/plain": [
       "array([[0.27135062, 0.39578465, 0.3328648 ],\n",
       "       [0.22168544, 0.35176438, 0.4265502 ],\n",
       "       [0.2715113 , 0.3798096 , 0.34867916],\n",
       "       [0.28669265, 0.38091946, 0.33238792],\n",
       "       [0.2231554 , 0.3476318 , 0.4292128 ],\n",
       "       [0.28376037, 0.3853013 , 0.3309383 ],\n",
       "       [0.18861404, 0.3208438 , 0.49054226],\n",
       "       [0.24526338, 0.35524437, 0.39949226],\n",
       "       [0.25101888, 0.35579234, 0.39318883],\n",
       "       [0.2613536 , 0.3589644 , 0.37968194],\n",
       "       [0.19423376, 0.31968656, 0.4860797 ],\n",
       "       [0.19588566, 0.3150252 , 0.4890891 ],\n",
       "       [0.24263038, 0.35146594, 0.4059036 ],\n",
       "       [0.22558987, 0.34614608, 0.42826402],\n",
       "       [0.28937986, 0.3846824 , 0.32593775],\n",
       "       [0.26538694, 0.3603696 , 0.3742435 ],\n",
       "       [0.19185635, 0.31647262, 0.49167103],\n",
       "       [0.22006501, 0.33700457, 0.4429305 ],\n",
       "       [0.28266886, 0.38620105, 0.33113015],\n",
       "       [0.24597503, 0.3606101 , 0.39341483],\n",
       "       [0.2424634 , 0.35789794, 0.39963874],\n",
       "       [0.21714556, 0.34263822, 0.44021618],\n",
       "       [0.25374493, 0.35183537, 0.3944197 ],\n",
       "       [0.27962357, 0.39186296, 0.32851347],\n",
       "       [0.2677597 , 0.37356237, 0.35867792],\n",
       "       [0.29210126, 0.38863066, 0.3192681 ],\n",
       "       [0.22493233, 0.35065502, 0.42441267],\n",
       "       [0.26268786, 0.3688335 , 0.36847857],\n",
       "       [0.19838762, 0.349207  , 0.45240533],\n",
       "       [0.28573295, 0.38032708, 0.33394   ]], dtype=float32)"
      ]
     },
     "execution_count": 12,
     "metadata": {},
     "output_type": "execute_result"
    }
   ],
   "source": [
    "predictions"
   ]
  }
 ],
 "metadata": {
  "kernelspec": {
   "display_name": "IA2",
   "language": "python",
   "name": "python3"
  },
  "language_info": {
   "codemirror_mode": {
    "name": "ipython",
    "version": 3
   },
   "file_extension": ".py",
   "mimetype": "text/x-python",
   "name": "python",
   "nbconvert_exporter": "python",
   "pygments_lexer": "ipython3",
   "version": "3.11.8"
  }
 },
 "nbformat": 4,
 "nbformat_minor": 2
}
